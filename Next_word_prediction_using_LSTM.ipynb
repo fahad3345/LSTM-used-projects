{
  "nbformat": 4,
  "nbformat_minor": 0,
  "metadata": {
    "colab": {
      "provenance": [],
      "gpuType": "T4",
      "authorship_tag": "ABX9TyPjZqLUSL/Ma+umH7dZBOG0",
      "include_colab_link": true
    },
    "kernelspec": {
      "name": "python3",
      "display_name": "Python 3"
    },
    "language_info": {
      "name": "python"
    },
    "accelerator": "GPU"
  },
  "cells": [
    {
      "cell_type": "markdown",
      "metadata": {
        "id": "view-in-github",
        "colab_type": "text"
      },
      "source": [
        "<a href=\"https://colab.research.google.com/github/fahad3345/price-prediction-LSTM/blob/main/Next_word_prediction_using_LSTM.ipynb\" target=\"_parent\"><img src=\"https://colab.research.google.com/assets/colab-badge.svg\" alt=\"Open In Colab\"/></a>"
      ]
    },
    {
      "cell_type": "code",
      "execution_count": 1,
      "metadata": {
        "id": "Ro4mIkH_XUoO"
      },
      "outputs": [],
      "source": [
        "# Step 1: Import libraries\n",
        "import tensorflow as tf\n",
        "from tensorflow.keras.preprocessing.text import Tokenizer\n",
        "from tensorflow.keras.layers import Embedding, LSTM, Dense\n",
        "from tensorflow.keras.models import Sequential\n",
        "from tensorflow.keras.utils import to_categorical\n",
        "from tensorflow.keras.optimizers import Adam\n",
        "import pickle\n",
        "import numpy as np\n",
        "import os"
      ]
    },
    {
      "cell_type": "code",
      "source": [
        "#Step 2: Load your file\n",
        "from google.colab import files\n",
        "uploaded = files.upload()"
      ],
      "metadata": {
        "colab": {
          "base_uri": "https://localhost:8080/",
          "height": 73
        },
        "id": "OsiPKvUMXzg3",
        "outputId": "c1f73ed9-1016-4ef7-f13a-201ed75c2bda"
      },
      "execution_count": 2,
      "outputs": [
        {
          "output_type": "display_data",
          "data": {
            "text/plain": [
              "<IPython.core.display.HTML object>"
            ],
            "text/html": [
              "\n",
              "     <input type=\"file\" id=\"files-eaf121f5-31f4-4dec-8bc1-acf03dbb3c33\" name=\"files[]\" multiple disabled\n",
              "        style=\"border:none\" />\n",
              "     <output id=\"result-eaf121f5-31f4-4dec-8bc1-acf03dbb3c33\">\n",
              "      Upload widget is only available when the cell has been executed in the\n",
              "      current browser session. Please rerun this cell to enable.\n",
              "      </output>\n",
              "      <script>// Copyright 2017 Google LLC\n",
              "//\n",
              "// Licensed under the Apache License, Version 2.0 (the \"License\");\n",
              "// you may not use this file except in compliance with the License.\n",
              "// You may obtain a copy of the License at\n",
              "//\n",
              "//      http://www.apache.org/licenses/LICENSE-2.0\n",
              "//\n",
              "// Unless required by applicable law or agreed to in writing, software\n",
              "// distributed under the License is distributed on an \"AS IS\" BASIS,\n",
              "// WITHOUT WARRANTIES OR CONDITIONS OF ANY KIND, either express or implied.\n",
              "// See the License for the specific language governing permissions and\n",
              "// limitations under the License.\n",
              "\n",
              "/**\n",
              " * @fileoverview Helpers for google.colab Python module.\n",
              " */\n",
              "(function(scope) {\n",
              "function span(text, styleAttributes = {}) {\n",
              "  const element = document.createElement('span');\n",
              "  element.textContent = text;\n",
              "  for (const key of Object.keys(styleAttributes)) {\n",
              "    element.style[key] = styleAttributes[key];\n",
              "  }\n",
              "  return element;\n",
              "}\n",
              "\n",
              "// Max number of bytes which will be uploaded at a time.\n",
              "const MAX_PAYLOAD_SIZE = 100 * 1024;\n",
              "\n",
              "function _uploadFiles(inputId, outputId) {\n",
              "  const steps = uploadFilesStep(inputId, outputId);\n",
              "  const outputElement = document.getElementById(outputId);\n",
              "  // Cache steps on the outputElement to make it available for the next call\n",
              "  // to uploadFilesContinue from Python.\n",
              "  outputElement.steps = steps;\n",
              "\n",
              "  return _uploadFilesContinue(outputId);\n",
              "}\n",
              "\n",
              "// This is roughly an async generator (not supported in the browser yet),\n",
              "// where there are multiple asynchronous steps and the Python side is going\n",
              "// to poll for completion of each step.\n",
              "// This uses a Promise to block the python side on completion of each step,\n",
              "// then passes the result of the previous step as the input to the next step.\n",
              "function _uploadFilesContinue(outputId) {\n",
              "  const outputElement = document.getElementById(outputId);\n",
              "  const steps = outputElement.steps;\n",
              "\n",
              "  const next = steps.next(outputElement.lastPromiseValue);\n",
              "  return Promise.resolve(next.value.promise).then((value) => {\n",
              "    // Cache the last promise value to make it available to the next\n",
              "    // step of the generator.\n",
              "    outputElement.lastPromiseValue = value;\n",
              "    return next.value.response;\n",
              "  });\n",
              "}\n",
              "\n",
              "/**\n",
              " * Generator function which is called between each async step of the upload\n",
              " * process.\n",
              " * @param {string} inputId Element ID of the input file picker element.\n",
              " * @param {string} outputId Element ID of the output display.\n",
              " * @return {!Iterable<!Object>} Iterable of next steps.\n",
              " */\n",
              "function* uploadFilesStep(inputId, outputId) {\n",
              "  const inputElement = document.getElementById(inputId);\n",
              "  inputElement.disabled = false;\n",
              "\n",
              "  const outputElement = document.getElementById(outputId);\n",
              "  outputElement.innerHTML = '';\n",
              "\n",
              "  const pickedPromise = new Promise((resolve) => {\n",
              "    inputElement.addEventListener('change', (e) => {\n",
              "      resolve(e.target.files);\n",
              "    });\n",
              "  });\n",
              "\n",
              "  const cancel = document.createElement('button');\n",
              "  inputElement.parentElement.appendChild(cancel);\n",
              "  cancel.textContent = 'Cancel upload';\n",
              "  const cancelPromise = new Promise((resolve) => {\n",
              "    cancel.onclick = () => {\n",
              "      resolve(null);\n",
              "    };\n",
              "  });\n",
              "\n",
              "  // Wait for the user to pick the files.\n",
              "  const files = yield {\n",
              "    promise: Promise.race([pickedPromise, cancelPromise]),\n",
              "    response: {\n",
              "      action: 'starting',\n",
              "    }\n",
              "  };\n",
              "\n",
              "  cancel.remove();\n",
              "\n",
              "  // Disable the input element since further picks are not allowed.\n",
              "  inputElement.disabled = true;\n",
              "\n",
              "  if (!files) {\n",
              "    return {\n",
              "      response: {\n",
              "        action: 'complete',\n",
              "      }\n",
              "    };\n",
              "  }\n",
              "\n",
              "  for (const file of files) {\n",
              "    const li = document.createElement('li');\n",
              "    li.append(span(file.name, {fontWeight: 'bold'}));\n",
              "    li.append(span(\n",
              "        `(${file.type || 'n/a'}) - ${file.size} bytes, ` +\n",
              "        `last modified: ${\n",
              "            file.lastModifiedDate ? file.lastModifiedDate.toLocaleDateString() :\n",
              "                                    'n/a'} - `));\n",
              "    const percent = span('0% done');\n",
              "    li.appendChild(percent);\n",
              "\n",
              "    outputElement.appendChild(li);\n",
              "\n",
              "    const fileDataPromise = new Promise((resolve) => {\n",
              "      const reader = new FileReader();\n",
              "      reader.onload = (e) => {\n",
              "        resolve(e.target.result);\n",
              "      };\n",
              "      reader.readAsArrayBuffer(file);\n",
              "    });\n",
              "    // Wait for the data to be ready.\n",
              "    let fileData = yield {\n",
              "      promise: fileDataPromise,\n",
              "      response: {\n",
              "        action: 'continue',\n",
              "      }\n",
              "    };\n",
              "\n",
              "    // Use a chunked sending to avoid message size limits. See b/62115660.\n",
              "    let position = 0;\n",
              "    do {\n",
              "      const length = Math.min(fileData.byteLength - position, MAX_PAYLOAD_SIZE);\n",
              "      const chunk = new Uint8Array(fileData, position, length);\n",
              "      position += length;\n",
              "\n",
              "      const base64 = btoa(String.fromCharCode.apply(null, chunk));\n",
              "      yield {\n",
              "        response: {\n",
              "          action: 'append',\n",
              "          file: file.name,\n",
              "          data: base64,\n",
              "        },\n",
              "      };\n",
              "\n",
              "      let percentDone = fileData.byteLength === 0 ?\n",
              "          100 :\n",
              "          Math.round((position / fileData.byteLength) * 100);\n",
              "      percent.textContent = `${percentDone}% done`;\n",
              "\n",
              "    } while (position < fileData.byteLength);\n",
              "  }\n",
              "\n",
              "  // All done.\n",
              "  yield {\n",
              "    response: {\n",
              "      action: 'complete',\n",
              "    }\n",
              "  };\n",
              "}\n",
              "\n",
              "scope.google = scope.google || {};\n",
              "scope.google.colab = scope.google.colab || {};\n",
              "scope.google.colab._files = {\n",
              "  _uploadFiles,\n",
              "  _uploadFilesContinue,\n",
              "};\n",
              "})(self);\n",
              "</script> "
            ]
          },
          "metadata": {}
        },
        {
          "output_type": "stream",
          "name": "stdout",
          "text": [
            "Saving book.txt to book.txt\n"
          ]
        }
      ]
    },
    {
      "cell_type": "markdown",
      "source": [
        "### Step 3: Open and pre-process the data"
      ],
      "metadata": {
        "id": "bd-nNqmQanWt"
      }
    },
    {
      "cell_type": "code",
      "source": [
        "#Step 3: Open and pre-process the data\n",
        "file = open(\"book.txt\", \"r\", encoding = \"utf8\")\n",
        "\n",
        "# store file in list\n",
        "lines = []\n",
        "for i in file:\n",
        "    lines.append(i)\n",
        "\n",
        "# Convert list to string\n",
        "data = \"\"\n",
        "for i in lines:\n",
        "  data = ' '. join(lines)\n",
        "\n",
        "#replace unnecessary stuff with space\n",
        "data = data.replace('\\n', '').replace('\\r', '').replace('\\ufeff', '').replace('“','').replace('”','')  #new line, carriage return, unicode character --> replace by space\n",
        "\n",
        "#remove unnecessary spaces\n",
        "data = data.split()\n",
        "data = ' '.join(data)\n",
        "data[:700]"
      ],
      "metadata": {
        "colab": {
          "base_uri": "https://localhost:8080/",
          "height": 104
        },
        "id": "EGlwtRgzYrqX",
        "outputId": "2139c894-d01b-4b52-f467-15cfc67b0a0e"
      },
      "execution_count": 8,
      "outputs": [
        {
          "output_type": "execute_result",
          "data": {
            "text/plain": [
              "'The Project Gutenberg eBook of The Answering Voice This ebook is for the use of anyone anywhere in the United States and most other parts of the world at no cost and with almost no restrictions whatsoever. You may copy it, give it away or re-use it under the terms of the Project Gutenberg License included with this ebook or online at www.gutenberg.org. If you are not located in the United States, you will have to check the laws of the country where you are located before using this eBook. Title: The Answering VoiceOne Hundred Love Lyrics by Women Compiler: Sara Teasdale Release date: August 4, 2023 [eBook #71343] Language: English Original publication: Boston: Houghton Mifflin, 1917 Credits:'"
            ],
            "application/vnd.google.colaboratory.intrinsic+json": {
              "type": "string"
            }
          },
          "metadata": {},
          "execution_count": 8
        }
      ]
    },
    {
      "cell_type": "code",
      "source": [
        "len(data)"
      ],
      "metadata": {
        "colab": {
          "base_uri": "https://localhost:8080/"
        },
        "id": "UUDeMyzxZlvP",
        "outputId": "0f9a6fe8-05c9-43d0-a95c-dbfb9038885a"
      },
      "execution_count": 9,
      "outputs": [
        {
          "output_type": "execute_result",
          "data": {
            "text/plain": [
              "93464"
            ]
          },
          "metadata": {},
          "execution_count": 9
        }
      ]
    },
    {
      "cell_type": "markdown",
      "source": [
        "### Step 4: Implement tokenization and make additional adjustments"
      ],
      "metadata": {
        "id": "We3Veh2zaa6-"
      }
    },
    {
      "cell_type": "code",
      "source": [
        "tokenizer = Tokenizer()\n",
        "tokenizer.fit_on_texts([data])\n",
        "\n",
        "# saving the tokenizer for predict function\n",
        "pickle.dump(tokenizer, open('token.pkl', 'wb'))\n",
        "\n",
        "sequence_data = tokenizer.texts_to_sequences([data])[0]\n",
        "sequence_data[:15]"
      ],
      "metadata": {
        "colab": {
          "base_uri": "https://localhost:8080/"
        },
        "id": "DnLBe1eoaGc1",
        "outputId": "c62eb67d-f168-4aa2-9af0-fbb04d644aaf"
      },
      "execution_count": 11,
      "outputs": [
        {
          "output_type": "execute_result",
          "data": {
            "text/plain": [
              "[1, 23, 54, 186, 5, 1, 351, 258, 29, 186, 16, 11, 1, 147, 5]"
            ]
          },
          "metadata": {},
          "execution_count": 11
        }
      ]
    },
    {
      "cell_type": "code",
      "source": [
        "len(sequence_data)"
      ],
      "metadata": {
        "colab": {
          "base_uri": "https://localhost:8080/"
        },
        "id": "aIBpmv_Rawj0",
        "outputId": "be24d426-8e5e-41ef-c0f9-ffe9ccbad5a8"
      },
      "execution_count": 12,
      "outputs": [
        {
          "output_type": "execute_result",
          "data": {
            "text/plain": [
              "17348"
            ]
          },
          "metadata": {},
          "execution_count": 12
        }
      ]
    },
    {
      "cell_type": "code",
      "source": [
        "vocab_size = len(tokenizer.word_index) + 1\n",
        "print(vocab_size)"
      ],
      "metadata": {
        "colab": {
          "base_uri": "https://localhost:8080/"
        },
        "id": "DXUdGjvVa07A",
        "outputId": "d1cf0d28-159b-4950-accb-14b09b174db0"
      },
      "execution_count": 13,
      "outputs": [
        {
          "output_type": "stream",
          "name": "stdout",
          "text": [
            "3076\n"
          ]
        }
      ]
    },
    {
      "cell_type": "code",
      "source": [
        "sequences = []\n",
        "for i in range(3, len(sequence_data)):\n",
        "    words = sequence_data[i-3:i+1]\n",
        "    sequences.append(words)\n",
        "\n",
        "print(\"The Length of sequences are: \", len(sequences))\n",
        "sequences = np.array(sequences)\n",
        "sequences[:10]"
      ],
      "metadata": {
        "colab": {
          "base_uri": "https://localhost:8080/"
        },
        "id": "cC1Dp8FRe1dS",
        "outputId": "8d627e18-e18e-42d4-b564-b7cd645c34af"
      },
      "execution_count": 14,
      "outputs": [
        {
          "output_type": "stream",
          "name": "stdout",
          "text": [
            "The Length of sequences are:  17345\n"
          ]
        },
        {
          "output_type": "execute_result",
          "data": {
            "text/plain": [
              "array([[  1,  23,  54, 186],\n",
              "       [ 23,  54, 186,   5],\n",
              "       [ 54, 186,   5,   1],\n",
              "       [186,   5,   1, 351],\n",
              "       [  5,   1, 351, 258],\n",
              "       [  1, 351, 258,  29],\n",
              "       [351, 258,  29, 186],\n",
              "       [258,  29, 186,  16],\n",
              "       [ 29, 186,  16,  11],\n",
              "       [186,  16,  11,   1]])"
            ]
          },
          "metadata": {},
          "execution_count": 14
        }
      ]
    },
    {
      "cell_type": "code",
      "source": [
        "X = []\n",
        "y = []\n",
        "\n",
        "for i in sequences:\n",
        "    X.append(i[0:3])\n",
        "    y.append(i[3])\n",
        "\n",
        "X = np.array(X)\n",
        "y = np.array(y)\n",
        "print(\"Data: \", X[:10])\n",
        "print(\"Response: \", y[:10])"
      ],
      "metadata": {
        "colab": {
          "base_uri": "https://localhost:8080/"
        },
        "id": "8QXR0jvRe6b0",
        "outputId": "9ef07e5f-64aa-41dd-c466-9e99fe08710f"
      },
      "execution_count": 15,
      "outputs": [
        {
          "output_type": "stream",
          "name": "stdout",
          "text": [
            "Data:  [[  1  23  54]\n",
            " [ 23  54 186]\n",
            " [ 54 186   5]\n",
            " [186   5   1]\n",
            " [  5   1 351]\n",
            " [  1 351 258]\n",
            " [351 258  29]\n",
            " [258  29 186]\n",
            " [ 29 186  16]\n",
            " [186  16  11]]\n",
            "Response:  [186   5   1 351 258  29 186  16  11   1]\n"
          ]
        }
      ]
    },
    {
      "cell_type": "code",
      "source": [
        "y = to_categorical(y, num_classes=vocab_size)\n",
        "y[:5]"
      ],
      "metadata": {
        "colab": {
          "base_uri": "https://localhost:8080/"
        },
        "id": "L81_3nwFe_5p",
        "outputId": "c35fbee4-ffae-47d0-f8c4-b15a9dc35400"
      },
      "execution_count": 16,
      "outputs": [
        {
          "output_type": "execute_result",
          "data": {
            "text/plain": [
              "array([[0., 0., 0., ..., 0., 0., 0.],\n",
              "       [0., 0., 0., ..., 0., 0., 0.],\n",
              "       [0., 1., 0., ..., 0., 0., 0.],\n",
              "       [0., 0., 0., ..., 0., 0., 0.],\n",
              "       [0., 0., 0., ..., 0., 0., 0.]], dtype=float32)"
            ]
          },
          "metadata": {},
          "execution_count": 16
        }
      ]
    },
    {
      "cell_type": "markdown",
      "source": [
        "### Step 5: Creating the model"
      ],
      "metadata": {
        "id": "-zAfH2kFfIEC"
      }
    },
    {
      "cell_type": "code",
      "source": [
        "model = Sequential()\n",
        "model.add(Embedding(vocab_size, 10, input_length=3))\n",
        "model.add(LSTM(1000, return_sequences=True))\n",
        "model.add(LSTM(1000))\n",
        "model.add(Dense(1000, activation=\"relu\"))\n",
        "model.add(Dense(vocab_size, activation=\"softmax\"))\n",
        "model.summary()"
      ],
      "metadata": {
        "colab": {
          "base_uri": "https://localhost:8080/"
        },
        "id": "MJIpXtNNfS6o",
        "outputId": "2f618b06-a28b-439b-885e-12d24eb54ac2"
      },
      "execution_count": 17,
      "outputs": [
        {
          "output_type": "stream",
          "name": "stdout",
          "text": [
            "Model: \"sequential\"\n",
            "_________________________________________________________________\n",
            " Layer (type)                Output Shape              Param #   \n",
            "=================================================================\n",
            " embedding (Embedding)       (None, 3, 10)             30760     \n",
            "                                                                 \n",
            " lstm (LSTM)                 (None, 3, 1000)           4044000   \n",
            "                                                                 \n",
            " lstm_1 (LSTM)               (None, 1000)              8004000   \n",
            "                                                                 \n",
            " dense (Dense)               (None, 1000)              1001000   \n",
            "                                                                 \n",
            " dense_1 (Dense)             (None, 3076)              3079076   \n",
            "                                                                 \n",
            "=================================================================\n",
            "Total params: 16,158,836\n",
            "Trainable params: 16,158,836\n",
            "Non-trainable params: 0\n",
            "_________________________________________________________________\n"
          ]
        }
      ]
    },
    {
      "cell_type": "markdown",
      "source": [
        "### Step 6: Plot the model"
      ],
      "metadata": {
        "id": "wKAn3jsIfaa4"
      }
    },
    {
      "cell_type": "code",
      "source": [
        "from tensorflow import keras\n",
        "from keras.utils.vis_utils import plot_model\n",
        "\n",
        "keras.utils.plot_model(model, to_file='plot.png', show_layer_names=True)"
      ],
      "metadata": {
        "colab": {
          "base_uri": "https://localhost:8080/",
          "height": 564
        },
        "id": "Cws_biHNfXdK",
        "outputId": "cd8beb81-76c2-4723-bb74-50fa048235a8"
      },
      "execution_count": 18,
      "outputs": [
        {
          "output_type": "execute_result",
          "data": {
            "image/png": "[encoded data removed]",
            "text/plain": [
              "<IPython.core.display.Image object>"
            ]
          },
          "metadata": {},
          "execution_count": 18
        }
      ]
    },
    {
      "cell_type": "markdown",
      "source": [
        "### Step 7: Train the model"
      ],
      "metadata": {
        "id": "3HwbeuNnfiZx"
      }
    },
    {
      "cell_type": "code",
      "source": [
        "from tensorflow.keras.callbacks import ModelCheckpoint\n",
        "\n",
        "checkpoint = ModelCheckpoint(\"next_words.h5\", monitor='loss', verbose=1, save_best_only=True)\n",
        "model.compile(loss=\"categorical_crossentropy\", optimizer=Adam(learning_rate=0.001))\n",
        "model.fit(X, y, epochs=70, batch_size=64, callbacks=[checkpoint])"
      ],
      "metadata": {
        "colab": {
          "base_uri": "https://localhost:8080/"
        },
        "id": "Cas4L_LnfeJG",
        "outputId": "ce07ebb2-8ba4-4a69-c510-bdac252c4127"
      },
      "execution_count": 19,
      "outputs": [
        {
          "output_type": "stream",
          "name": "stdout",
          "text": [
            "Epoch 1/70\n",
            "272/272 [==============================] - ETA: 0s - loss: 6.8605\n",
            "Epoch 1: loss improved from inf to 6.86047, saving model to next_words.h5\n",
            "272/272 [==============================] - 21s 41ms/step - loss: 6.8605\n",
            "Epoch 2/70\n",
            "271/272 [============================>.] - ETA: 0s - loss: 6.4524\n",
            "Epoch 2: loss improved from 6.86047 to 6.45238, saving model to next_words.h5\n",
            "272/272 [==============================] - 5s 20ms/step - loss: 6.4524\n",
            "Epoch 3/70\n",
            "271/272 [============================>.] - ETA: 0s - loss: 6.2165\n",
            "Epoch 3: loss improved from 6.45238 to 6.21651, saving model to next_words.h5\n",
            "272/272 [==============================] - 4s 15ms/step - loss: 6.2165\n",
            "Epoch 4/70\n",
            "269/272 [============================>.] - ETA: 0s - loss: 5.9296\n",
            "Epoch 4: loss improved from 6.21651 to 5.93030, saving model to next_words.h5\n",
            "272/272 [==============================] - 4s 15ms/step - loss: 5.9303\n",
            "Epoch 5/70\n",
            "271/272 [============================>.] - ETA: 0s - loss: 5.6615\n",
            "Epoch 5: loss improved from 5.93030 to 5.66143, saving model to next_words.h5\n",
            "272/272 [==============================] - 4s 16ms/step - loss: 5.6614\n",
            "Epoch 6/70\n",
            "269/272 [============================>.] - ETA: 0s - loss: 5.3475\n",
            "Epoch 6: loss improved from 5.66143 to 5.34877, saving model to next_words.h5\n",
            "272/272 [==============================] - 4s 16ms/step - loss: 5.3488\n",
            "Epoch 7/70\n",
            "269/272 [============================>.] - ETA: 0s - loss: 5.0806\n",
            "Epoch 7: loss improved from 5.34877 to 5.08024, saving model to next_words.h5\n",
            "272/272 [==============================] - 4s 15ms/step - loss: 5.0802\n",
            "Epoch 8/70\n",
            "269/272 [============================>.] - ETA: 0s - loss: 4.8035\n",
            "Epoch 8: loss improved from 5.08024 to 4.80259, saving model to next_words.h5\n",
            "272/272 [==============================] - 4s 16ms/step - loss: 4.8026\n",
            "Epoch 9/70\n",
            "269/272 [============================>.] - ETA: 0s - loss: 4.5023\n",
            "Epoch 9: loss improved from 4.80259 to 4.50253, saving model to next_words.h5\n",
            "272/272 [==============================] - 4s 16ms/step - loss: 4.5025\n",
            "Epoch 10/70\n",
            "270/272 [============================>.] - ETA: 0s - loss: 4.2022\n",
            "Epoch 10: loss improved from 4.50253 to 4.20086, saving model to next_words.h5\n",
            "272/272 [==============================] - 5s 20ms/step - loss: 4.2009\n",
            "Epoch 11/70\n",
            "270/272 [============================>.] - ETA: 0s - loss: 3.8756\n",
            "Epoch 11: loss improved from 4.20086 to 3.87525, saving model to next_words.h5\n",
            "272/272 [==============================] - 4s 16ms/step - loss: 3.8753\n",
            "Epoch 12/70\n",
            "271/272 [============================>.] - ETA: 0s - loss: 3.5146\n",
            "Epoch 12: loss improved from 3.87525 to 3.51474, saving model to next_words.h5\n",
            "272/272 [==============================] - 4s 16ms/step - loss: 3.5147\n",
            "Epoch 13/70\n",
            "270/272 [============================>.] - ETA: 0s - loss: 3.2296\n",
            "Epoch 13: loss improved from 3.51474 to 3.23031, saving model to next_words.h5\n",
            "272/272 [==============================] - 4s 16ms/step - loss: 3.2303\n",
            "Epoch 14/70\n",
            "268/272 [============================>.] - ETA: 0s - loss: 2.8862\n",
            "Epoch 14: loss improved from 3.23031 to 2.88754, saving model to next_words.h5\n",
            "272/272 [==============================] - 4s 16ms/step - loss: 2.8875\n",
            "Epoch 15/70\n",
            "269/272 [============================>.] - ETA: 0s - loss: 2.5474\n",
            "Epoch 15: loss improved from 2.88754 to 2.54771, saving model to next_words.h5\n",
            "272/272 [==============================] - 4s 15ms/step - loss: 2.5477\n",
            "Epoch 16/70\n",
            "270/272 [============================>.] - ETA: 0s - loss: 2.2748\n",
            "Epoch 16: loss improved from 2.54771 to 2.27397, saving model to next_words.h5\n",
            "272/272 [==============================] - 5s 17ms/step - loss: 2.2740\n",
            "Epoch 17/70\n",
            "271/272 [============================>.] - ETA: 0s - loss: 2.0922\n",
            "Epoch 17: loss improved from 2.27397 to 2.09229, saving model to next_words.h5\n",
            "272/272 [==============================] - 4s 15ms/step - loss: 2.0923\n",
            "Epoch 18/70\n",
            "269/272 [============================>.] - ETA: 0s - loss: 1.8176\n",
            "Epoch 18: loss improved from 2.09229 to 1.81588, saving model to next_words.h5\n",
            "272/272 [==============================] - 4s 15ms/step - loss: 1.8159\n",
            "Epoch 19/70\n",
            "270/272 [============================>.] - ETA: 0s - loss: 1.5875\n",
            "Epoch 19: loss improved from 1.81588 to 1.58746, saving model to next_words.h5\n",
            "272/272 [==============================] - 5s 17ms/step - loss: 1.5875\n",
            "Epoch 20/70\n",
            "271/272 [============================>.] - ETA: 0s - loss: 1.4151\n",
            "Epoch 20: loss improved from 1.58746 to 1.41512, saving model to next_words.h5\n",
            "272/272 [==============================] - 4s 15ms/step - loss: 1.4151\n",
            "Epoch 21/70\n",
            "271/272 [============================>.] - ETA: 0s - loss: 1.2273\n",
            "Epoch 21: loss improved from 1.41512 to 1.22719, saving model to next_words.h5\n",
            "272/272 [==============================] - 4s 15ms/step - loss: 1.2272\n",
            "Epoch 22/70\n",
            "269/272 [============================>.] - ETA: 0s - loss: 1.0616\n",
            "Epoch 22: loss improved from 1.22719 to 1.06211, saving model to next_words.h5\n",
            "272/272 [==============================] - 5s 17ms/step - loss: 1.0621\n",
            "Epoch 23/70\n",
            "269/272 [============================>.] - ETA: 0s - loss: 1.0101\n",
            "Epoch 23: loss improved from 1.06211 to 1.01029, saving model to next_words.h5\n",
            "272/272 [==============================] - 4s 15ms/step - loss: 1.0103\n",
            "Epoch 24/70\n",
            "269/272 [============================>.] - ETA: 0s - loss: 0.8419\n",
            "Epoch 24: loss improved from 1.01029 to 0.84223, saving model to next_words.h5\n",
            "272/272 [==============================] - 4s 15ms/step - loss: 0.8422\n",
            "Epoch 25/70\n",
            "272/272 [==============================] - ETA: 0s - loss: 0.7093\n",
            "Epoch 25: loss improved from 0.84223 to 0.70934, saving model to next_words.h5\n",
            "272/272 [==============================] - 5s 17ms/step - loss: 0.7093\n",
            "Epoch 26/70\n",
            "269/272 [============================>.] - ETA: 0s - loss: 0.6209\n",
            "Epoch 26: loss improved from 0.70934 to 0.62245, saving model to next_words.h5\n",
            "272/272 [==============================] - 4s 15ms/step - loss: 0.6224\n",
            "Epoch 27/70\n",
            "269/272 [============================>.] - ETA: 0s - loss: 0.5891\n",
            "Epoch 27: loss improved from 0.62245 to 0.58828, saving model to next_words.h5\n",
            "272/272 [==============================] - 4s 15ms/step - loss: 0.5883\n",
            "Epoch 28/70\n",
            "270/272 [============================>.] - ETA: 0s - loss: 0.5361\n",
            "Epoch 28: loss improved from 0.58828 to 0.53652, saving model to next_words.h5\n",
            "272/272 [==============================] - 4s 16ms/step - loss: 0.5365\n",
            "Epoch 29/70\n",
            "271/272 [============================>.] - ETA: 0s - loss: 0.5078\n",
            "Epoch 29: loss improved from 0.53652 to 0.50774, saving model to next_words.h5\n",
            "272/272 [==============================] - 4s 16ms/step - loss: 0.5077\n",
            "Epoch 30/70\n",
            "272/272 [==============================] - ETA: 0s - loss: 0.4243\n",
            "Epoch 30: loss improved from 0.50774 to 0.42434, saving model to next_words.h5\n",
            "272/272 [==============================] - 4s 15ms/step - loss: 0.4243\n",
            "Epoch 31/70\n",
            "271/272 [============================>.] - ETA: 0s - loss: 0.3955\n",
            "Epoch 31: loss improved from 0.42434 to 0.39552, saving model to next_words.h5\n",
            "272/272 [==============================] - 5s 17ms/step - loss: 0.3955\n",
            "Epoch 32/70\n",
            "272/272 [==============================] - ETA: 0s - loss: 0.3749\n",
            "Epoch 32: loss improved from 0.39552 to 0.37491, saving model to next_words.h5\n",
            "272/272 [==============================] - 4s 15ms/step - loss: 0.3749\n",
            "Epoch 33/70\n",
            "272/272 [==============================] - ETA: 0s - loss: 0.3570\n",
            "Epoch 33: loss improved from 0.37491 to 0.35701, saving model to next_words.h5\n",
            "272/272 [==============================] - 4s 15ms/step - loss: 0.3570\n",
            "Epoch 34/70\n",
            "269/272 [============================>.] - ETA: 0s - loss: 0.3422\n",
            "Epoch 34: loss improved from 0.35701 to 0.34392, saving model to next_words.h5\n",
            "272/272 [==============================] - 4s 16ms/step - loss: 0.3439\n",
            "Epoch 35/70\n",
            "268/272 [============================>.] - ETA: 0s - loss: 0.3330\n",
            "Epoch 35: loss improved from 0.34392 to 0.33416, saving model to next_words.h5\n",
            "272/272 [==============================] - 4s 15ms/step - loss: 0.3342\n",
            "Epoch 36/70\n",
            "272/272 [==============================] - ETA: 0s - loss: 0.4556\n",
            "Epoch 36: loss did not improve from 0.33416\n",
            "272/272 [==============================] - 4s 14ms/step - loss: 0.4556\n",
            "Epoch 37/70\n",
            "270/272 [============================>.] - ETA: 0s - loss: 0.3491\n",
            "Epoch 37: loss did not improve from 0.33416\n",
            "272/272 [==============================] - 4s 15ms/step - loss: 0.3494\n",
            "Epoch 38/70\n",
            "272/272 [==============================] - ETA: 0s - loss: 0.3122\n",
            "Epoch 38: loss improved from 0.33416 to 0.31219, saving model to next_words.h5\n",
            "272/272 [==============================] - 4s 15ms/step - loss: 0.3122\n",
            "Epoch 39/70\n",
            "272/272 [==============================] - ETA: 0s - loss: 0.2989\n",
            "Epoch 39: loss improved from 0.31219 to 0.29892, saving model to next_words.h5\n",
            "272/272 [==============================] - 4s 15ms/step - loss: 0.2989\n",
            "Epoch 40/70\n",
            "269/272 [============================>.] - ETA: 0s - loss: 0.2686\n",
            "Epoch 40: loss improved from 0.29892 to 0.26794, saving model to next_words.h5\n",
            "272/272 [==============================] - 5s 17ms/step - loss: 0.2679\n",
            "Epoch 41/70\n",
            "272/272 [==============================] - ETA: 0s - loss: 0.2639\n",
            "Epoch 41: loss improved from 0.26794 to 0.26393, saving model to next_words.h5\n",
            "272/272 [==============================] - 4s 16ms/step - loss: 0.2639\n",
            "Epoch 42/70\n",
            "272/272 [==============================] - ETA: 0s - loss: 0.2544\n",
            "Epoch 42: loss improved from 0.26393 to 0.25439, saving model to next_words.h5\n",
            "272/272 [==============================] - 4s 16ms/step - loss: 0.2544\n",
            "Epoch 43/70\n",
            "272/272 [==============================] - ETA: 0s - loss: 0.2537\n",
            "Epoch 43: loss improved from 0.25439 to 0.25374, saving model to next_words.h5\n",
            "272/272 [==============================] - 5s 17ms/step - loss: 0.2537\n",
            "Epoch 44/70\n",
            "269/272 [============================>.] - ETA: 0s - loss: 0.2645\n",
            "Epoch 44: loss did not improve from 0.25374\n",
            "272/272 [==============================] - 4s 14ms/step - loss: 0.2649\n",
            "Epoch 45/70\n",
            "271/272 [============================>.] - ETA: 0s - loss: 0.3972\n",
            "Epoch 45: loss did not improve from 0.25374\n",
            "272/272 [==============================] - 4s 14ms/step - loss: 0.3972\n",
            "Epoch 46/70\n",
            "272/272 [==============================] - ETA: 0s - loss: 0.3368\n",
            "Epoch 46: loss did not improve from 0.25374\n",
            "272/272 [==============================] - 4s 15ms/step - loss: 0.3368\n",
            "Epoch 47/70\n",
            "272/272 [==============================] - ETA: 0s - loss: 0.2994\n",
            "Epoch 47: loss did not improve from 0.25374\n",
            "272/272 [==============================] - 4s 14ms/step - loss: 0.2994\n",
            "Epoch 48/70\n",
            "269/272 [============================>.] - ETA: 0s - loss: 0.2510\n",
            "Epoch 48: loss improved from 0.25374 to 0.25119, saving model to next_words.h5\n",
            "272/272 [==============================] - 4s 15ms/step - loss: 0.2512\n",
            "Epoch 49/70\n",
            "270/272 [============================>.] - ETA: 0s - loss: 0.2270\n",
            "Epoch 49: loss improved from 0.25119 to 0.22755, saving model to next_words.h5\n",
            "272/272 [==============================] - 5s 17ms/step - loss: 0.2275\n",
            "Epoch 50/70\n",
            "269/272 [============================>.] - ETA: 0s - loss: 0.2511\n",
            "Epoch 50: loss did not improve from 0.22755\n",
            "272/272 [==============================] - 4s 14ms/step - loss: 0.2516\n",
            "Epoch 51/70\n",
            "269/272 [============================>.] - ETA: 0s - loss: 0.2265\n",
            "Epoch 51: loss improved from 0.22755 to 0.22685, saving model to next_words.h5\n",
            "272/272 [==============================] - 4s 15ms/step - loss: 0.2268\n",
            "Epoch 52/70\n",
            "269/272 [============================>.] - ETA: 0s - loss: 0.2209\n",
            "Epoch 52: loss improved from 0.22685 to 0.22136, saving model to next_words.h5\n",
            "272/272 [==============================] - 5s 17ms/step - loss: 0.2214\n",
            "Epoch 53/70\n",
            "271/272 [============================>.] - ETA: 0s - loss: 0.2106\n",
            "Epoch 53: loss improved from 0.22136 to 0.21059, saving model to next_words.h5\n",
            "272/272 [==============================] - 4s 15ms/step - loss: 0.2106\n",
            "Epoch 54/70\n",
            "272/272 [==============================] - ETA: 0s - loss: 0.2091\n",
            "Epoch 54: loss improved from 0.21059 to 0.20909, saving model to next_words.h5\n",
            "272/272 [==============================] - 4s 15ms/step - loss: 0.2091\n",
            "Epoch 55/70\n",
            "272/272 [==============================] - ETA: 0s - loss: 0.2100\n",
            "Epoch 55: loss did not improve from 0.20909\n",
            "272/272 [==============================] - 4s 15ms/step - loss: 0.2100\n",
            "Epoch 56/70\n",
            "271/272 [============================>.] - ETA: 0s - loss: 0.2185\n",
            "Epoch 56: loss did not improve from 0.20909\n",
            "272/272 [==============================] - 4s 14ms/step - loss: 0.2184\n",
            "Epoch 57/70\n",
            "269/272 [============================>.] - ETA: 0s - loss: 0.2525\n",
            "Epoch 57: loss did not improve from 0.20909\n",
            "272/272 [==============================] - 4s 14ms/step - loss: 0.2530\n",
            "Epoch 58/70\n",
            "272/272 [==============================] - ETA: 0s - loss: 0.3194\n",
            "Epoch 58: loss did not improve from 0.20909\n",
            "272/272 [==============================] - 4s 14ms/step - loss: 0.3194\n",
            "Epoch 59/70\n",
            "272/272 [==============================] - ETA: 0s - loss: 0.3520\n",
            "Epoch 59: loss did not improve from 0.20909\n",
            "272/272 [==============================] - 4s 15ms/step - loss: 0.3520\n",
            "Epoch 60/70\n",
            "269/272 [============================>.] - ETA: 0s - loss: 0.2306\n",
            "Epoch 60: loss did not improve from 0.20909\n",
            "272/272 [==============================] - 4s 13ms/step - loss: 0.2311\n",
            "Epoch 61/70\n",
            "269/272 [============================>.] - ETA: 0s - loss: 0.2069\n",
            "Epoch 61: loss improved from 0.20909 to 0.20695, saving model to next_words.h5\n",
            "272/272 [==============================] - 4s 15ms/step - loss: 0.2070\n",
            "Epoch 62/70\n",
            "270/272 [============================>.] - ETA: 0s - loss: 0.1914\n",
            "Epoch 62: loss improved from 0.20695 to 0.19142, saving model to next_words.h5\n",
            "272/272 [==============================] - 5s 19ms/step - loss: 0.1914\n",
            "Epoch 63/70\n",
            "272/272 [==============================] - ETA: 0s - loss: 0.1844\n",
            "Epoch 63: loss improved from 0.19142 to 0.18437, saving model to next_words.h5\n",
            "272/272 [==============================] - 4s 16ms/step - loss: 0.1844\n",
            "Epoch 64/70\n",
            "272/272 [==============================] - ETA: 0s - loss: 0.1807\n",
            "Epoch 64: loss improved from 0.18437 to 0.18066, saving model to next_words.h5\n",
            "272/272 [==============================] - 4s 16ms/step - loss: 0.1807\n",
            "Epoch 65/70\n",
            "271/272 [============================>.] - ETA: 0s - loss: 0.1815\n",
            "Epoch 65: loss did not improve from 0.18066\n",
            "272/272 [==============================] - 4s 15ms/step - loss: 0.1815\n",
            "Epoch 66/70\n",
            "269/272 [============================>.] - ETA: 0s - loss: 0.1788\n",
            "Epoch 66: loss improved from 0.18066 to 0.17885, saving model to next_words.h5\n",
            "272/272 [==============================] - 4s 15ms/step - loss: 0.1789\n",
            "Epoch 67/70\n",
            "271/272 [============================>.] - ETA: 0s - loss: 0.1821\n",
            "Epoch 67: loss did not improve from 0.17885\n",
            "272/272 [==============================] - 4s 14ms/step - loss: 0.1821\n",
            "Epoch 68/70\n",
            "270/272 [============================>.] - ETA: 0s - loss: 0.1799\n",
            "Epoch 68: loss did not improve from 0.17885\n",
            "272/272 [==============================] - 4s 15ms/step - loss: 0.1799\n",
            "Epoch 69/70\n",
            "269/272 [============================>.] - ETA: 0s - loss: 0.1870\n",
            "Epoch 69: loss did not improve from 0.17885\n",
            "272/272 [==============================] - 4s 14ms/step - loss: 0.1878\n",
            "Epoch 70/70\n",
            "272/272 [==============================] - ETA: 0s - loss: 0.2921\n",
            "Epoch 70: loss did not improve from 0.17885\n",
            "272/272 [==============================] - 4s 15ms/step - loss: 0.2921\n"
          ]
        },
        {
          "output_type": "execute_result",
          "data": {
            "text/plain": [
              "<keras.callbacks.History at 0x7e7b70919510>"
            ]
          },
          "metadata": {},
          "execution_count": 19
        }
      ]
    },
    {
      "cell_type": "markdown",
      "source": [
        "### Step 8: Let’s predict"
      ],
      "metadata": {
        "id": "O8JR9Osrfqvz"
      }
    },
    {
      "cell_type": "code",
      "source": [
        "from tensorflow.keras.models import load_model\n",
        "import numpy as np\n",
        "import pickle\n",
        "\n",
        "# Load the model and tokenizer\n",
        "model = load_model('next_words.h5')\n",
        "tokenizer = pickle.load(open('token.pkl', 'rb'))\n",
        "\n",
        "def Predict_Next_Words(model, tokenizer, text):\n",
        "\n",
        "  sequence = tokenizer.texts_to_sequences([text])\n",
        "  sequence = np.array(sequence)\n",
        "  preds = np.argmax(model.predict(sequence))\n",
        "  predicted_word = \"\"\n",
        "\n",
        "  for key, value in tokenizer.word_index.items():\n",
        "      if value == preds:\n",
        "          predicted_word = key\n",
        "          break\n",
        "\n",
        "  print(predicted_word)\n",
        "  return predicted_word"
      ],
      "metadata": {
        "id": "F7WSIYZRfmtm"
      },
      "execution_count": 20,
      "outputs": []
    },
    {
      "cell_type": "code",
      "source": [
        "while(True):\n",
        "  text = input(\"Enter your line: \")\n",
        "\n",
        "  if text == \"0\":\n",
        "      print(\"Execution completed.....\")\n",
        "      break\n",
        "\n",
        "  else:\n",
        "      try:\n",
        "          text = text.split(\" \")\n",
        "          text = text[-3:]\n",
        "          print(text)\n",
        "\n",
        "          Predict_Next_Words(model, tokenizer, text)\n",
        "\n",
        "      except Exception as e:\n",
        "        print(\"Error occurred: \",e)\n",
        "        continue"
      ],
      "metadata": {
        "colab": {
          "base_uri": "https://localhost:8080/"
        },
        "id": "TS3HJObUh-iS",
        "outputId": "916deea3-bdf6-42e8-fd38-755a0fcb9a5b"
      },
      "execution_count": 21,
      "outputs": [
        {
          "output_type": "stream",
          "name": "stdout",
          "text": [
            "Enter your line: literature, the work of women has\n",
            "['of', 'women', 'has']\n",
            "1/1 [==============================] - 1s 658ms/step\n",
            "compared\n",
            "Enter your line: i'm going to \n",
            "['going', 'to', '']\n",
            "1/1 [==============================] - 1s 648ms/step\n",
            "the\n",
            "Enter your line: 0\n",
            "Execution completed.....\n"
          ]
        }
      ]
    },
    {
      "cell_type": "code",
      "source": [],
      "metadata": {
        "id": "Jt6z2-esiEHf"
      },
      "execution_count": null,
      "outputs": []
    }
  ]
}